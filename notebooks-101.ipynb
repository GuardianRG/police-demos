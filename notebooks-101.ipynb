{
 "cells": [
  {
   "cell_type": "markdown",
   "metadata": {},
   "source": [
    "# Welcome to ML for policing"
   ]
  },
  {
   "cell_type": "markdown",
   "metadata": {},
   "source": [
    "In this module, you will be working hands-on with both simple and advanced machine learning algorithms on artificial as well as real-world datasets. "
   ]
  },
  {
   "cell_type": "markdown",
   "metadata": {},
   "source": [
    "To facilitate this process, we will be working exclusively with Jupyter notebooks such as this one, so that unfamiliarity with programming and with the details of the algorithms used does not prevent you from appreciating what ML can and cannot do for you."
   ]
  },
  {
   "cell_type": "markdown",
   "metadata": {},
   "source": [
    "A notebook is an interactive collection of CELLS. When you click on this text, for instance, you will see a highlighted border around it. This highlighted border shows you the area occupied by this CELL. To visit the next cell, just press the down key on your keyboard. To visit the cell above this one, press the up key on your keyboard."
   ]
  },
  {
   "cell_type": "markdown",
   "metadata": {},
   "source": [
    "All the cells you have visited so far, including this one, are just paragraphs of text, which is not very exciting. Why don't we introduce a programming cell? The cell below includes active code. To visit it, just press the down key. To RUN it, while the border around it is active (showing that you are visiting it), press Ctrl and Enter simultaneously."
   ]
  },
  {
   "cell_type": "code",
   "execution_count": 1,
   "metadata": {},
   "outputs": [
    {
     "name": "stdout",
     "output_type": "stream",
     "text": [
      "Welcome to programming with python\n"
     ]
    }
   ],
   "source": [
    "print(\"Welcome to programming with python\")"
   ]
  },
  {
   "cell_type": "markdown",
   "metadata": {},
   "source": [
    "Notice what happened when you tried to RUN the cell instead of just visiting it. It ran the code present in the cell and printed the output immediately below. This is what will happen throughout this module. I will give you notebooks with the code already written in them, and you will run them and see what happens. If you do this mechanically and without thought, you will not learn very much. But if you pay attention to the code and try to understand how it is giving you the results it is giving, you will get a decent headstart on understanding ML concepts. At the end of the module, I don't expect that you will be able to write ML systems for yourselves, but you will have a solid technical understanding of what is and what isn't possible with such systems. \n",
    "\n",
    "Please practice with the cells given below to get a better sense for how python works within the interactive notebook interface. Then please proceed to the next reading assignment. "
   ]
  },
  {
   "cell_type": "code",
   "execution_count": 3,
   "metadata": {},
   "outputs": [
    {
     "name": "stdout",
     "output_type": "stream",
     "text": [
      "9\n"
     ]
    }
   ],
   "source": [
    "# adding two numbers. please change the values of both numbers to 7 and 11 and print the output\n",
    "x = 4\n",
    "y = 5 \n",
    "print(x+y)"
   ]
  },
  {
   "cell_type": "code",
   "execution_count": 4,
   "metadata": {},
   "outputs": [],
   "source": [
    "# defining a function that adds 5 to your age\n",
    "def age_plus(age):\n",
    "    return age + 5"
   ]
  },
  {
   "cell_type": "code",
   "execution_count": 8,
   "metadata": {},
   "outputs": [
    {
     "name": "stdout",
     "output_type": "stream",
     "text": [
      "I am 41 years old.\n"
     ]
    }
   ],
   "source": [
    "# using this function to display enhanced age.\n",
    "#This cell won't work until you run the earlier one that actually defines the age_plus function\n",
    "\n",
    "print(\"I am \" + str(age_plus(36)) + \" years old.\")"
   ]
  },
  {
   "cell_type": "code",
   "execution_count": 9,
   "metadata": {},
   "outputs": [
    {
     "name": "stdout",
     "output_type": "stream",
     "text": [
      "I am 28 years old.\n",
      "I am 39 years old.\n",
      "I am 81 years old.\n",
      "I am 26 years old.\n",
      "I am 48 years old.\n"
     ]
    }
   ],
   "source": [
    "# entering some numbers in a list, printing them all out with an increment of 5, and plotting them in a bar chart\n",
    "\n",
    "ages = [23, 34, 76, 21, 43]\n",
    "for age in ages:\n",
    "    print(\"I am \" + str(age_plus(age)) + \" years old.\")"
   ]
  },
  {
   "cell_type": "markdown",
   "metadata": {},
   "source": [
    "The next cell is an interesting one. It contains an import statement. We import libraries in python to gain access to enhanced functionalities above and beyond what is available to us in the basic python shell. The library matplotlib contains graphing and plotting utilities that allow us to make beautiful diagrams as part of our work. Keep going to see how."
   ]
  },
  {
   "cell_type": "code",
   "execution_count": 19,
   "metadata": {},
   "outputs": [
    {
     "data": {
      "image/png": "[encoded data removed]",
      "text/plain": [
       "<Figure size 432x288 with 1 Axes>"
      ]
     },
     "metadata": {},
     "output_type": "display_data"
    }
   ],
   "source": [
    "import matplotlib.pyplot as plt\n",
    "plt.style.use('fivethirtyeight')\n",
    "plt.bar(range(1,len(ages)+1),ages)\n",
    "plt.ylabel(\"Ages\")\n",
    "plt.show()"
   ]
  },
  {
   "cell_type": "code",
   "execution_count": null,
   "metadata": {},
   "outputs": [],
   "source": []
  }
 ],
 "metadata": {
  "kernelspec": {
   "display_name": "p37env",
   "language": "python",
   "name": "p37env"
  },
  "language_info": {
   "codemirror_mode": {
    "name": "ipython",
    "version": 3
   },
   "file_extension": ".py",
   "mimetype": "text/x-python",
   "name": "python",
   "nbconvert_exporter": "python",
   "pygments_lexer": "ipython3",
   "version": "3.7.3"
  }
 },
 "nbformat": 4,
 "nbformat_minor": 2
}
